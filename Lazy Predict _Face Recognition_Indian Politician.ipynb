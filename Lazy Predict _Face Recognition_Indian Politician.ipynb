{
 "cells": [
  {
   "cell_type": "code",
   "execution_count": 1,
   "id": "10cb5bcd",
   "metadata": {},
   "outputs": [],
   "source": [
    "import lazypredict"
   ]
  },
  {
   "cell_type": "code",
   "execution_count": 86,
   "id": "afebe209",
   "metadata": {},
   "outputs": [],
   "source": [
    "from lazypredict.Supervised import LazyClassifier\n",
    "### importing LazyClassifier for classification problem because here we are solving Classification use case.\n",
    "from lazypredict.Supervised import LazyClassifier\n",
    "### importing breast Cancer Dataset from sklearn\n",
    "from sklearn.datasets import load_breast_cancer\n",
    "### spliting dataset into training and testing part\n",
    "from sklearn.model_selection import train_test_split\n",
    "import pandas as pd\n",
    "import dlib\n",
    "import glob\n",
    "import os\n",
    "import numpy as np\n",
    "import re"
   ]
  },
  {
   "cell_type": "code",
   "execution_count": 14,
   "id": "a8e8ba72",
   "metadata": {},
   "outputs": [],
   "source": [
    "#detector =  dlib.cnn_face_detection_model_v1('mmod_human_face_detector.dat')\n",
    "detector = dlib.get_frontal_face_detector()\n",
    "#sp = dlib.shape_predictor('shape_predictor_68_face_landmarks.dat')\n",
    "sp = dlib.shape_predictor('shape_predictor_5_face_landmarks.dat')\n",
    "model = dlib.face_recognition_model_v1('dlib_face_recognition_resnet_model_v1.dat')"
   ]
  },
  {
   "cell_type": "code",
   "execution_count": 101,
   "id": "5473b5ef",
   "metadata": {},
   "outputs": [],
   "source": [
    "img_label=[]\n",
    "for filename in glob.glob('Face Recognition_politician/Politics Data_set/*.jpg'):\n",
    "       # im = Image.open(filename)\n",
    "        im_name=os.path.split(filename)[-1]\n",
    "        \n",
    "        im_name = os.path.splitext(im_name)[0]\n",
    "        #print(im_name)\n",
    "        \n",
    "        if(re.findall('^img_r', im_name)):\n",
    "            img_label.append(1)\n",
    "        else:\n",
    "            img_label.append(0)\n",
    "        "
   ]
  },
  {
   "cell_type": "code",
   "execution_count": 102,
   "id": "4f38f1ec",
   "metadata": {},
   "outputs": [
    {
     "data": {
      "text/plain": [
       "145"
      ]
     },
     "execution_count": 102,
     "metadata": {},
     "output_type": "execute_result"
    }
   ],
   "source": [
    "len(img_label)"
   ]
  },
  {
   "cell_type": "code",
   "execution_count": 99,
   "id": "9833e8f5",
   "metadata": {},
   "outputs": [
    {
     "name": "stdout",
     "output_type": "stream",
     "text": [
      "img_r74.jpg\n",
      "img_r85.jpg\n",
      "img_r34.jpg\n",
      "img_r27.jpg\n",
      "img_r93.jpg\n",
      "img54.jpg\n",
      "img7.jpg\n",
      "img11.jpg\n",
      "img_r64.jpg\n",
      "img25.jpg\n",
      "img1.jpg\n",
      "img34.jpg\n",
      "img_r79.jpg\n",
      "img65.jpg\n",
      "img44.jpg\n",
      "img_r16.jpg\n",
      "img91.jpg\n",
      "img_r75.jpg\n",
      "img45.jpg\n",
      "img42.jpg\n",
      "img_r96.jpg\n",
      "img_r53.jpg\n",
      "img49.jpg\n",
      "img_r48.jpg\n",
      "img_r45.jpg\n",
      "img_r77.jpg\n",
      "img80.jpg\n",
      "img_r37.jpg\n",
      "img_r90.jpg\n",
      "img_r70.jpg\n",
      "img50.jpg\n",
      "img92.jpg\n",
      "img_r54.jpg\n",
      "img_r68.jpg\n",
      "img41.jpg\n",
      "img60.jpg\n",
      "img18.jpg\n",
      "img64.jpg\n",
      "img_r46.jpg\n",
      "img82.jpg\n",
      "img3.jpg\n",
      "img56.jpg\n",
      "img17.jpg\n",
      "img46.jpg\n",
      "img_r44.jpg\n",
      "img88.jpg\n",
      "img32.jpg\n",
      "img_r82.jpg\n",
      "img_r52.jpg\n",
      "img69.jpg\n",
      "img_r56.jpg\n",
      "img61.jpg\n",
      "img_r4.jpg\n",
      "img62.jpg\n",
      "img77.jpg\n",
      "img29.jpg\n",
      "img15.jpg\n",
      "img_r24.jpg\n",
      "img28.jpg\n",
      "img12.jpg\n",
      "img89.jpg\n",
      "img_r51.jpg\n",
      "img31.jpg\n",
      "img90.jpg\n",
      "img_r30.jpg\n",
      "img47.jpg\n",
      "img_r50.jpg\n",
      "img_r78.jpg\n",
      "img_r84.jpg\n",
      "img53.jpg\n",
      "img_r87.jpg\n",
      "img26.jpg\n",
      "img48.jpg\n",
      "img_r38.jpg\n",
      "img_r86.jpg\n",
      "img55.jpg\n",
      "img_r25.jpg\n",
      "img84.jpg\n",
      "img43.jpg\n",
      "img_r83.jpg\n",
      "img_r66.jpg\n",
      "img_r95.jpg\n",
      "img_r1.jpg\n",
      "img_r9.jpg\n",
      "img_r11.jpg\n",
      "img67.jpg\n",
      "img14.jpg\n",
      "img72.jpg\n",
      "img_r59.jpg\n",
      "img_r76.jpg\n",
      "img_r40.jpg\n",
      "img33.jpg\n",
      "img57.jpg\n",
      "img_r88.jpg\n",
      "img85.jpg\n",
      "img_r71.jpg\n",
      "img_r21.jpg\n",
      "img75.jpg\n",
      "img_r92.jpg\n",
      "img_r72.jpg\n",
      "img22.jpg\n",
      "img70.jpg\n",
      "img52.jpg\n",
      "img68.jpg\n",
      "img36.jpg\n",
      "img71.jpg\n",
      "img_r3.jpg\n",
      "img58.jpg\n",
      "img78.jpg\n",
      "img39.jpg\n",
      "img21.jpg\n",
      "img_r81.jpg\n",
      "img79.jpg\n",
      "img13.jpg\n",
      "img_r58.jpg\n",
      "img4.jpg\n",
      "img_r15.jpg\n",
      "img_r29.jpg\n",
      "img_r14.jpg\n",
      "img_r61.jpg\n",
      "img37.jpg\n",
      "img_r19.jpg\n",
      "img_r94.jpg\n",
      "img_r91.jpg\n",
      "img_r31.jpg\n",
      "img10.jpg\n",
      "img40.jpg\n",
      "img93.jpg\n",
      "img_r5.jpg\n",
      "img_r10.jpg\n",
      "img_r36.jpg\n",
      "img59.jpg\n",
      "img_r17.jpg\n",
      "img6.jpg\n",
      "img_r60.jpg\n",
      "img_r22.jpg\n",
      "img_r55.jpg\n",
      "img_r0.jpg\n",
      "img73.jpg\n",
      "img38.jpg\n",
      "img35.jpg\n",
      "img_r80.jpg\n",
      "img_r89.jpg\n",
      "img9.jpg\n",
      "img20.jpg\n"
     ]
    }
   ],
   "source": [
    "embedings_list=[]\n",
    "img_list=[]\n",
    "\n",
    "for filename in glob.glob('Face Recognition_politician/Politics Data_set/*.jpg'):\n",
    "       # im = Image.open(filename)\n",
    "        im_name=os.path.split(filename)[-1]\n",
    "        \n",
    "        img_label.append(os.path.splitext(im_name)[0])\n",
    "        \n",
    "        im = dlib.load_rgb_image(filename)\n",
    "        \n",
    "        #face_bounding_boxes = face_recognition.face_locations(im, number_of_times_to_upsample=2, model=\"cnn\")\n",
    "        \n",
    "        \n",
    "        #plt.imshow(im)\n",
    "        im_detector = detector(im, 1)\n",
    "        #print(im_detector[0].rect)\n",
    "        #print(os.path.splitext(im_name)[0])\n",
    "        \n",
    "        print(im_name)\n",
    "        im_shape = sp(im, im_detector[0])\n",
    "        im_aligned = dlib.get_face_chip(im, im_shape)\n",
    "        #print(im_aligned.shape)\n",
    "        im_representation = model.compute_face_descriptor(im_aligned)\n",
    "        im_representation = np.array(im_representation)\n",
    "        \n",
    "        embedings_list.append(im_representation)\n",
    "        \n",
    "        img_list.append(im)"
   ]
  },
  {
   "cell_type": "code",
   "execution_count": 100,
   "id": "ec728a45",
   "metadata": {},
   "outputs": [
    {
     "data": {
      "text/plain": [
       "145"
      ]
     },
     "execution_count": 100,
     "metadata": {},
     "output_type": "execute_result"
    }
   ],
   "source": [
    "len(embedings_list)"
   ]
  },
  {
   "cell_type": "code",
   "execution_count": 103,
   "id": "40dc075b",
   "metadata": {},
   "outputs": [],
   "source": [
    "X=embedings_list\n",
    "y=img_label"
   ]
  },
  {
   "cell_type": "code",
   "execution_count": 104,
   "id": "63aa29ef",
   "metadata": {},
   "outputs": [],
   "source": [
    "X_arr = np.array(X)"
   ]
  },
  {
   "cell_type": "code",
   "execution_count": 105,
   "id": "050ac860",
   "metadata": {},
   "outputs": [
    {
     "data": {
      "text/plain": [
       "numpy.ndarray"
      ]
     },
     "execution_count": 105,
     "metadata": {},
     "output_type": "execute_result"
    }
   ],
   "source": [
    "type(X_arr)"
   ]
  },
  {
   "cell_type": "code",
   "execution_count": 106,
   "id": "d477c883",
   "metadata": {},
   "outputs": [],
   "source": [
    "y_arr = np.array(y)"
   ]
  },
  {
   "cell_type": "code",
   "execution_count": 107,
   "id": "b824a5b9",
   "metadata": {},
   "outputs": [
    {
     "data": {
      "text/plain": [
       "numpy.ndarray"
      ]
     },
     "execution_count": 107,
     "metadata": {},
     "output_type": "execute_result"
    }
   ],
   "source": [
    "type(y_arr)"
   ]
  },
  {
   "cell_type": "code",
   "execution_count": 108,
   "id": "3b1dcffa",
   "metadata": {},
   "outputs": [],
   "source": [
    "### splitting dataset into training and testing part(50% training and 50% testing)\n",
    "X_train, X_test, y_train, y_test = train_test_split(X_arr, y_arr, test_size=.5, random_state =123)"
   ]
  },
  {
   "cell_type": "code",
   "execution_count": 109,
   "id": "e5c4d5c3",
   "metadata": {},
   "outputs": [
    {
     "data": {
      "text/plain": [
       "(72,)"
      ]
     },
     "execution_count": 109,
     "metadata": {},
     "output_type": "execute_result"
    }
   ],
   "source": [
    "y_train.shape"
   ]
  },
  {
   "cell_type": "code",
   "execution_count": 110,
   "id": "9d9ae7ea",
   "metadata": {},
   "outputs": [],
   "source": [
    "clf = LazyClassifier(verbose=0, ignore_warnings=True, custom_metric = None)"
   ]
  },
  {
   "cell_type": "code",
   "execution_count": 111,
   "id": "b664fe44",
   "metadata": {},
   "outputs": [
    {
     "name": "stderr",
     "output_type": "stream",
     "text": [
      "100%|███████████████████████████████████████████| 29/29 [00:00<00:00, 69.63it/s]"
     ]
    },
    {
     "name": "stdout",
     "output_type": "stream",
     "text": [
      "                               Accuracy  Balanced Accuracy  ROC AUC  F1 Score  \\\n",
      "Model                                                                           \n",
      "LGBMClassifier                     0.97               0.97     0.97      0.97   \n",
      "XGBClassifier                      0.97               0.97     0.97      0.97   \n",
      "SVC                                0.97               0.97     0.97      0.97   \n",
      "SGDClassifier                      0.97               0.97     0.97      0.97   \n",
      "GaussianNB                         0.97               0.97     0.97      0.97   \n",
      "Perceptron                         0.97               0.97     0.97      0.97   \n",
      "NuSVC                              0.97               0.97     0.97      0.97   \n",
      "BernoulliNB                        0.97               0.97     0.97      0.97   \n",
      "ExtraTreesClassifier               0.96               0.96     0.96      0.96   \n",
      "RidgeClassifierCV                  0.96               0.96     0.96      0.96   \n",
      "RidgeClassifier                    0.96               0.96     0.96      0.96   \n",
      "RandomForestClassifier             0.96               0.96     0.96      0.96   \n",
      "NearestCentroid                    0.96               0.96     0.96      0.96   \n",
      "DecisionTreeClassifier             0.95               0.95     0.95      0.95   \n",
      "PassiveAggressiveClassifier        0.95               0.95     0.95      0.95   \n",
      "LinearSVC                          0.95               0.95     0.95      0.95   \n",
      "LogisticRegression                 0.95               0.95     0.95      0.95   \n",
      "CalibratedClassifierCV             0.95               0.95     0.95      0.95   \n",
      "LinearDiscriminantAnalysis         0.95               0.94     0.94      0.95   \n",
      "KNeighborsClassifier               0.95               0.94     0.94      0.95   \n",
      "ExtraTreeClassifier                0.93               0.93     0.93      0.93   \n",
      "AdaBoostClassifier                 0.92               0.92     0.92      0.92   \n",
      "BaggingClassifier                  0.90               0.90     0.90      0.90   \n",
      "QuadraticDiscriminantAnalysis      0.66               0.66     0.66      0.65   \n",
      "LabelSpreading                     0.52               0.51     0.51      0.37   \n",
      "LabelPropagation                   0.52               0.51     0.51      0.37   \n",
      "DummyClassifier                    0.51               0.50     0.50      0.34   \n",
      "\n",
      "                               Time Taken  \n",
      "Model                                      \n",
      "LGBMClassifier                       0.02  \n",
      "XGBClassifier                        0.02  \n",
      "SVC                                  0.01  \n",
      "SGDClassifier                        0.01  \n",
      "GaussianNB                           0.01  \n",
      "Perceptron                           0.01  \n",
      "NuSVC                                0.01  \n",
      "BernoulliNB                          0.01  \n",
      "ExtraTreesClassifier                 0.05  \n",
      "RidgeClassifierCV                    0.01  \n",
      "RidgeClassifier                      0.01  \n",
      "RandomForestClassifier               0.08  \n",
      "NearestCentroid                      0.01  \n",
      "DecisionTreeClassifier               0.01  \n",
      "PassiveAggressiveClassifier          0.01  \n",
      "LinearSVC                            0.01  \n",
      "LogisticRegression                   0.01  \n",
      "CalibratedClassifierCV               0.01  \n",
      "LinearDiscriminantAnalysis           0.02  \n",
      "KNeighborsClassifier                 0.01  \n",
      "ExtraTreeClassifier                  0.01  \n",
      "AdaBoostClassifier                   0.06  \n",
      "BaggingClassifier                    0.02  \n",
      "QuadraticDiscriminantAnalysis        0.01  \n",
      "LabelSpreading                       0.01  \n",
      "LabelPropagation                     0.01  \n",
      "DummyClassifier                      0.01  \n"
     ]
    },
    {
     "name": "stderr",
     "output_type": "stream",
     "text": [
      "\n"
     ]
    }
   ],
   "source": [
    "### fitting data in LazyClassifier\n",
    "models,predictions = clf.fit(X_train, X_test, y_train, y_test)\n",
    "### lets check which model did better on Breast Cancer Dataset\n",
    "print(models)"
   ]
  }
 ],
 "metadata": {
  "kernelspec": {
   "display_name": "Python 3 (ipykernel)",
   "language": "python",
   "name": "python3"
  },
  "language_info": {
   "codemirror_mode": {
    "name": "ipython",
    "version": 3
   },
   "file_extension": ".py",
   "mimetype": "text/x-python",
   "name": "python",
   "nbconvert_exporter": "python",
   "pygments_lexer": "ipython3",
   "version": "3.9.13"
  }
 },
 "nbformat": 4,
 "nbformat_minor": 5
}
