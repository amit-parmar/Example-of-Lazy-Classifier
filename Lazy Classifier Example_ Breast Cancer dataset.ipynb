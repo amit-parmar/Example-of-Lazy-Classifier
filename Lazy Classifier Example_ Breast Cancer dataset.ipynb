{
 "cells": [
  {
   "cell_type": "code",
   "execution_count": 2,
   "id": "742bd212",
   "metadata": {},
   "outputs": [
    {
     "name": "stdout",
     "output_type": "stream",
     "text": [
      "Collecting lazypredict\n",
      "  Downloading lazypredict-0.2.12-py2.py3-none-any.whl (12 kB)\n",
      "Requirement already satisfied: tqdm in /home/ad.rapidops.com/amit.parmar/anaconda3/envs/ML_env/lib/python3.9/site-packages (from lazypredict) (4.64.1)\n",
      "Requirement already satisfied: scikit-learn in /home/ad.rapidops.com/amit.parmar/anaconda3/envs/ML_env/lib/python3.9/site-packages (from lazypredict) (1.0.2)\n",
      "Requirement already satisfied: pandas in /home/ad.rapidops.com/amit.parmar/anaconda3/envs/ML_env/lib/python3.9/site-packages (from lazypredict) (1.4.4)\n",
      "Requirement already satisfied: joblib in /home/ad.rapidops.com/amit.parmar/anaconda3/envs/ML_env/lib/python3.9/site-packages (from lazypredict) (1.1.0)\n",
      "Requirement already satisfied: click in /home/ad.rapidops.com/amit.parmar/anaconda3/envs/ML_env/lib/python3.9/site-packages (from lazypredict) (8.0.4)\n",
      "Collecting lightgbm\n",
      "  Downloading lightgbm-3.3.3-py3-none-manylinux1_x86_64.whl (2.0 MB)\n",
      "\u001b[2K     \u001b[38;2;114;156;31m━━━━━━━━━━━━━━━━━━━━━━━━━━━━━━━━━━━━━━━━\u001b[0m \u001b[32m2.0/2.0 MB\u001b[0m \u001b[31m11.4 MB/s\u001b[0m eta \u001b[36m0:00:00\u001b[0m MB/s\u001b[0m eta \u001b[36m0:00:01\u001b[0m01\u001b[0m\n",
      "\u001b[?25hCollecting xgboost\n",
      "  Downloading xgboost-1.7.1-py3-none-manylinux2014_x86_64.whl (193.6 MB)\n",
      "\u001b[2K     \u001b[38;2;114;156;31m━━━━━━━━━━━━━━━━━━━━━━━━━━━━━━━━━━━━━━\u001b[0m \u001b[32m193.6/193.6 MB\u001b[0m \u001b[31m10.0 MB/s\u001b[0m eta \u001b[36m0:00:00\u001b[0mm eta \u001b[36m0:00:01\u001b[0m[36m0:00:01\u001b[0m\n",
      "\u001b[?25hRequirement already satisfied: scipy in /home/ad.rapidops.com/amit.parmar/anaconda3/envs/ML_env/lib/python3.9/site-packages (from lightgbm->lazypredict) (1.7.3)\n",
      "Requirement already satisfied: numpy in /home/ad.rapidops.com/amit.parmar/anaconda3/envs/ML_env/lib/python3.9/site-packages (from lightgbm->lazypredict) (1.21.5)\n",
      "Requirement already satisfied: wheel in /home/ad.rapidops.com/amit.parmar/anaconda3/envs/ML_env/lib/python3.9/site-packages (from lightgbm->lazypredict) (0.37.1)\n",
      "Requirement already satisfied: threadpoolctl>=2.0.0 in /home/ad.rapidops.com/amit.parmar/anaconda3/envs/ML_env/lib/python3.9/site-packages (from scikit-learn->lazypredict) (2.2.0)\n",
      "Requirement already satisfied: python-dateutil>=2.8.1 in /home/ad.rapidops.com/amit.parmar/anaconda3/envs/ML_env/lib/python3.9/site-packages (from pandas->lazypredict) (2.8.2)\n",
      "Requirement already satisfied: pytz>=2020.1 in /home/ad.rapidops.com/amit.parmar/anaconda3/envs/ML_env/lib/python3.9/site-packages (from pandas->lazypredict) (2022.1)\n",
      "Requirement already satisfied: six>=1.5 in /home/ad.rapidops.com/amit.parmar/anaconda3/envs/ML_env/lib/python3.9/site-packages (from python-dateutil>=2.8.1->pandas->lazypredict) (1.16.0)\n",
      "Installing collected packages: xgboost, lightgbm, lazypredict\n",
      "Successfully installed lazypredict-0.2.12 lightgbm-3.3.3 xgboost-1.7.1\n",
      "Note: you may need to restart the kernel to use updated packages.\n"
     ]
    }
   ],
   "source": [
    "pip install lazypredict"
   ]
  },
  {
   "cell_type": "code",
   "execution_count": 1,
   "id": "10cb5bcd",
   "metadata": {},
   "outputs": [],
   "source": [
    "import lazypredict"
   ]
  },
  {
   "cell_type": "code",
   "execution_count": 20,
   "id": "afebe209",
   "metadata": {},
   "outputs": [],
   "source": [
    "from lazypredict.Supervised import LazyClassifier\n",
    "### importing LazyClassifier for classification problem because here we are solving Classification use case.\n",
    "from lazypredict.Supervised import LazyClassifier\n",
    "### importing breast Cancer Dataset from sklearn\n",
    "from sklearn.datasets import load_breast_cancer\n",
    "### spliting dataset into training and testing part\n",
    "from sklearn.model_selection import train_test_split\n",
    "import pandas as pd"
   ]
  },
  {
   "cell_type": "code",
   "execution_count": 64,
   "id": "7c829a76",
   "metadata": {},
   "outputs": [],
   "source": [
    "data = load_breast_cancer()"
   ]
  },
  {
   "cell_type": "code",
   "execution_count": 39,
   "id": "31dcfe87",
   "metadata": {},
   "outputs": [
    {
     "data": {
      "text/plain": [
       "sklearn.utils.Bunch"
      ]
     },
     "execution_count": 39,
     "metadata": {},
     "output_type": "execute_result"
    }
   ],
   "source": [
    "type(data)"
   ]
  },
  {
   "cell_type": "code",
   "execution_count": 4,
   "id": "2621e7e7",
   "metadata": {},
   "outputs": [],
   "source": [
    "X= data.data\n",
    "y=data.target"
   ]
  },
  {
   "cell_type": "code",
   "execution_count": 63,
   "id": "cb097a6d",
   "metadata": {},
   "outputs": [
    {
     "data": {
      "text/plain": [
       "numpy.ndarray"
      ]
     },
     "execution_count": 63,
     "metadata": {},
     "output_type": "execute_result"
    }
   ],
   "source": [
    "type(y)"
   ]
  },
  {
   "cell_type": "code",
   "execution_count": 51,
   "id": "3a0fd647",
   "metadata": {},
   "outputs": [],
   "source": [
    "li=[]\n",
    "for i in range(len(X)):\n",
    "    li = [row for row in X-1]"
   ]
  },
  {
   "cell_type": "code",
   "execution_count": 54,
   "id": "922c2738",
   "metadata": {},
   "outputs": [],
   "source": [
    "df = pd.DataFrame(li)"
   ]
  },
  {
   "cell_type": "code",
   "execution_count": 65,
   "id": "9c86939a",
   "metadata": {},
   "outputs": [
    {
     "data": {
      "text/html": [
       "<div>\n",
       "<style scoped>\n",
       "    .dataframe tbody tr th:only-of-type {\n",
       "        vertical-align: middle;\n",
       "    }\n",
       "\n",
       "    .dataframe tbody tr th {\n",
       "        vertical-align: top;\n",
       "    }\n",
       "\n",
       "    .dataframe thead th {\n",
       "        text-align: right;\n",
       "    }\n",
       "</style>\n",
       "<table border=\"1\" class=\"dataframe\">\n",
       "  <thead>\n",
       "    <tr style=\"text-align: right;\">\n",
       "      <th></th>\n",
       "      <th>0</th>\n",
       "      <th>1</th>\n",
       "      <th>2</th>\n",
       "      <th>3</th>\n",
       "      <th>4</th>\n",
       "      <th>5</th>\n",
       "      <th>6</th>\n",
       "      <th>7</th>\n",
       "      <th>8</th>\n",
       "      <th>9</th>\n",
       "      <th>...</th>\n",
       "      <th>20</th>\n",
       "      <th>21</th>\n",
       "      <th>22</th>\n",
       "      <th>23</th>\n",
       "      <th>24</th>\n",
       "      <th>25</th>\n",
       "      <th>26</th>\n",
       "      <th>27</th>\n",
       "      <th>28</th>\n",
       "      <th>29</th>\n",
       "    </tr>\n",
       "  </thead>\n",
       "  <tbody>\n",
       "    <tr>\n",
       "      <th>0</th>\n",
       "      <td>16.99</td>\n",
       "      <td>9.38</td>\n",
       "      <td>121.80</td>\n",
       "      <td>1000.00</td>\n",
       "      <td>-0.88</td>\n",
       "      <td>-0.72</td>\n",
       "      <td>-0.70</td>\n",
       "      <td>-0.85</td>\n",
       "      <td>-0.76</td>\n",
       "      <td>-0.92</td>\n",
       "      <td>...</td>\n",
       "      <td>24.38</td>\n",
       "      <td>16.33</td>\n",
       "      <td>183.60</td>\n",
       "      <td>2018.00</td>\n",
       "      <td>-0.84</td>\n",
       "      <td>-0.33</td>\n",
       "      <td>-0.29</td>\n",
       "      <td>-0.73</td>\n",
       "      <td>-0.54</td>\n",
       "      <td>-0.88</td>\n",
       "    </tr>\n",
       "    <tr>\n",
       "      <th>1</th>\n",
       "      <td>19.57</td>\n",
       "      <td>16.77</td>\n",
       "      <td>131.90</td>\n",
       "      <td>1325.00</td>\n",
       "      <td>-0.92</td>\n",
       "      <td>-0.92</td>\n",
       "      <td>-0.91</td>\n",
       "      <td>-0.93</td>\n",
       "      <td>-0.82</td>\n",
       "      <td>-0.94</td>\n",
       "      <td>...</td>\n",
       "      <td>23.99</td>\n",
       "      <td>22.41</td>\n",
       "      <td>157.80</td>\n",
       "      <td>1955.00</td>\n",
       "      <td>-0.88</td>\n",
       "      <td>-0.81</td>\n",
       "      <td>-0.76</td>\n",
       "      <td>-0.81</td>\n",
       "      <td>-0.72</td>\n",
       "      <td>-0.91</td>\n",
       "    </tr>\n",
       "    <tr>\n",
       "      <th>2</th>\n",
       "      <td>18.69</td>\n",
       "      <td>20.25</td>\n",
       "      <td>129.00</td>\n",
       "      <td>1202.00</td>\n",
       "      <td>-0.89</td>\n",
       "      <td>-0.84</td>\n",
       "      <td>-0.80</td>\n",
       "      <td>-0.87</td>\n",
       "      <td>-0.79</td>\n",
       "      <td>-0.94</td>\n",
       "      <td>...</td>\n",
       "      <td>22.57</td>\n",
       "      <td>24.53</td>\n",
       "      <td>151.50</td>\n",
       "      <td>1708.00</td>\n",
       "      <td>-0.86</td>\n",
       "      <td>-0.58</td>\n",
       "      <td>-0.55</td>\n",
       "      <td>-0.76</td>\n",
       "      <td>-0.64</td>\n",
       "      <td>-0.91</td>\n",
       "    </tr>\n",
       "    <tr>\n",
       "      <th>3</th>\n",
       "      <td>10.42</td>\n",
       "      <td>19.38</td>\n",
       "      <td>76.58</td>\n",
       "      <td>385.10</td>\n",
       "      <td>-0.86</td>\n",
       "      <td>-0.72</td>\n",
       "      <td>-0.76</td>\n",
       "      <td>-0.89</td>\n",
       "      <td>-0.74</td>\n",
       "      <td>-0.90</td>\n",
       "      <td>...</td>\n",
       "      <td>13.91</td>\n",
       "      <td>25.50</td>\n",
       "      <td>97.87</td>\n",
       "      <td>566.70</td>\n",
       "      <td>-0.79</td>\n",
       "      <td>-0.13</td>\n",
       "      <td>-0.31</td>\n",
       "      <td>-0.74</td>\n",
       "      <td>-0.34</td>\n",
       "      <td>-0.83</td>\n",
       "    </tr>\n",
       "    <tr>\n",
       "      <th>4</th>\n",
       "      <td>19.29</td>\n",
       "      <td>13.34</td>\n",
       "      <td>134.10</td>\n",
       "      <td>1296.00</td>\n",
       "      <td>-0.90</td>\n",
       "      <td>-0.87</td>\n",
       "      <td>-0.80</td>\n",
       "      <td>-0.90</td>\n",
       "      <td>-0.82</td>\n",
       "      <td>-0.94</td>\n",
       "      <td>...</td>\n",
       "      <td>21.54</td>\n",
       "      <td>15.67</td>\n",
       "      <td>151.20</td>\n",
       "      <td>1574.00</td>\n",
       "      <td>-0.86</td>\n",
       "      <td>-0.80</td>\n",
       "      <td>-0.60</td>\n",
       "      <td>-0.84</td>\n",
       "      <td>-0.76</td>\n",
       "      <td>-0.92</td>\n",
       "    </tr>\n",
       "  </tbody>\n",
       "</table>\n",
       "<p>5 rows × 30 columns</p>\n",
       "</div>"
      ],
      "text/plain": [
       "     0     1      2       3     4     5     6     7     8     9   ...    20  \\\n",
       "0 16.99  9.38 121.80 1000.00 -0.88 -0.72 -0.70 -0.85 -0.76 -0.92  ... 24.38   \n",
       "1 19.57 16.77 131.90 1325.00 -0.92 -0.92 -0.91 -0.93 -0.82 -0.94  ... 23.99   \n",
       "2 18.69 20.25 129.00 1202.00 -0.89 -0.84 -0.80 -0.87 -0.79 -0.94  ... 22.57   \n",
       "3 10.42 19.38  76.58  385.10 -0.86 -0.72 -0.76 -0.89 -0.74 -0.90  ... 13.91   \n",
       "4 19.29 13.34 134.10 1296.00 -0.90 -0.87 -0.80 -0.90 -0.82 -0.94  ... 21.54   \n",
       "\n",
       "     21     22      23    24    25    26    27    28    29  \n",
       "0 16.33 183.60 2018.00 -0.84 -0.33 -0.29 -0.73 -0.54 -0.88  \n",
       "1 22.41 157.80 1955.00 -0.88 -0.81 -0.76 -0.81 -0.72 -0.91  \n",
       "2 24.53 151.50 1708.00 -0.86 -0.58 -0.55 -0.76 -0.64 -0.91  \n",
       "3 25.50  97.87  566.70 -0.79 -0.13 -0.31 -0.74 -0.34 -0.83  \n",
       "4 15.67 151.20 1574.00 -0.86 -0.80 -0.60 -0.84 -0.76 -0.92  \n",
       "\n",
       "[5 rows x 30 columns]"
      ]
     },
     "execution_count": 65,
     "metadata": {},
     "output_type": "execute_result"
    }
   ],
   "source": [
    "df.head()"
   ]
  },
  {
   "cell_type": "markdown",
   "id": "cbb221dc",
   "metadata": {},
   "source": [
    "### splitting dataset into training and testing part(50% training and 50% testing)"
   ]
  },
  {
   "cell_type": "code",
   "execution_count": 58,
   "id": "1ded7c12",
   "metadata": {},
   "outputs": [],
   "source": [
    "\n",
    "X_train, X_test, y_train, y_test = train_test_split(X, y, test_size=.5, random_state =123)"
   ]
  },
  {
   "cell_type": "code",
   "execution_count": 59,
   "id": "e5c4d5c3",
   "metadata": {},
   "outputs": [
    {
     "data": {
      "text/plain": [
       "(284, 30)"
      ]
     },
     "execution_count": 59,
     "metadata": {},
     "output_type": "execute_result"
    }
   ],
   "source": [
    "X_train.shape"
   ]
  },
  {
   "cell_type": "markdown",
   "id": "52433a8d",
   "metadata": {},
   "source": [
    "### Creating a object of lazy classifier"
   ]
  },
  {
   "cell_type": "code",
   "execution_count": 60,
   "id": "9d9ae7ea",
   "metadata": {},
   "outputs": [],
   "source": [
    "clf = LazyClassifier(verbose=0, ignore_warnings=True, custom_metric = None)"
   ]
  },
  {
   "cell_type": "markdown",
   "id": "2d25438b",
   "metadata": {},
   "source": [
    "### Fitting data in LazyClassifier"
   ]
  },
  {
   "cell_type": "code",
   "execution_count": 61,
   "id": "b664fe44",
   "metadata": {},
   "outputs": [
    {
     "name": "stderr",
     "output_type": "stream",
     "text": [
      "100%|███████████████████████████████████████████| 29/29 [00:00<00:00, 62.03it/s]"
     ]
    },
    {
     "name": "stdout",
     "output_type": "stream",
     "text": [
      "                               Accuracy  Balanced Accuracy  ROC AUC  F1 Score  \\\n",
      "Model                                                                           \n",
      "LinearSVC                          0.99               0.99     0.99      0.99   \n",
      "Perceptron                         0.99               0.98     0.98      0.99   \n",
      "LogisticRegression                 0.99               0.98     0.98      0.99   \n",
      "SVC                                0.98               0.98     0.98      0.98   \n",
      "XGBClassifier                      0.98               0.98     0.98      0.98   \n",
      "LabelPropagation                   0.98               0.97     0.97      0.98   \n",
      "LabelSpreading                     0.98               0.97     0.97      0.98   \n",
      "BaggingClassifier                  0.97               0.97     0.97      0.97   \n",
      "PassiveAggressiveClassifier        0.98               0.97     0.97      0.98   \n",
      "SGDClassifier                      0.98               0.97     0.97      0.98   \n",
      "RandomForestClassifier             0.97               0.97     0.97      0.97   \n",
      "CalibratedClassifierCV             0.98               0.97     0.97      0.98   \n",
      "LGBMClassifier                     0.97               0.97     0.97      0.97   \n",
      "QuadraticDiscriminantAnalysis      0.96               0.97     0.97      0.97   \n",
      "ExtraTreesClassifier               0.97               0.96     0.96      0.97   \n",
      "RidgeClassifierCV                  0.97               0.96     0.96      0.97   \n",
      "RidgeClassifier                    0.97               0.96     0.96      0.97   \n",
      "AdaBoostClassifier                 0.96               0.96     0.96      0.96   \n",
      "KNeighborsClassifier               0.96               0.96     0.96      0.96   \n",
      "BernoulliNB                        0.95               0.95     0.95      0.95   \n",
      "LinearDiscriminantAnalysis         0.96               0.95     0.95      0.96   \n",
      "GaussianNB                         0.95               0.95     0.95      0.95   \n",
      "NuSVC                              0.95               0.94     0.94      0.95   \n",
      "ExtraTreeClassifier                0.94               0.93     0.93      0.94   \n",
      "NearestCentroid                    0.95               0.93     0.93      0.95   \n",
      "DecisionTreeClassifier             0.93               0.93     0.93      0.93   \n",
      "DummyClassifier                    0.64               0.50     0.50      0.50   \n",
      "\n",
      "                               Time Taken  \n",
      "Model                                      \n",
      "LinearSVC                            0.01  \n",
      "Perceptron                           0.00  \n",
      "LogisticRegression                   0.01  \n",
      "SVC                                  0.01  \n",
      "XGBClassifier                        0.02  \n",
      "LabelPropagation                     0.01  \n",
      "LabelSpreading                       0.01  \n",
      "BaggingClassifier                    0.02  \n",
      "PassiveAggressiveClassifier          0.00  \n",
      "SGDClassifier                        0.00  \n",
      "RandomForestClassifier               0.08  \n",
      "CalibratedClassifierCV               0.03  \n",
      "LGBMClassifier                       0.03  \n",
      "QuadraticDiscriminantAnalysis        0.01  \n",
      "ExtraTreesClassifier                 0.05  \n",
      "RidgeClassifierCV                    0.01  \n",
      "RidgeClassifier                      0.02  \n",
      "AdaBoostClassifier                   0.06  \n",
      "KNeighborsClassifier                 0.01  \n",
      "BernoulliNB                          0.04  \n",
      "LinearDiscriminantAnalysis           0.02  \n",
      "GaussianNB                           0.00  \n",
      "NuSVC                                0.01  \n",
      "ExtraTreeClassifier                  0.00  \n",
      "NearestCentroid                      0.00  \n",
      "DecisionTreeClassifier               0.01  \n",
      "DummyClassifier                      0.00  \n"
     ]
    },
    {
     "name": "stderr",
     "output_type": "stream",
     "text": [
      "\n"
     ]
    }
   ],
   "source": [
    "\n",
    "models,predictions = clf.fit(X_train, X_test, y_train, y_test)\n",
    "\n"
   ]
  },
  {
   "cell_type": "markdown",
   "id": "eaf39978",
   "metadata": {},
   "source": [
    "### Lets check which model did better on Breast Cancer Dataset\n"
   ]
  },
  {
   "cell_type": "code",
   "execution_count": null,
   "id": "f4e36826",
   "metadata": {},
   "outputs": [],
   "source": [
    "print(models)"
   ]
  }
 ],
 "metadata": {
  "kernelspec": {
   "display_name": "Python 3 (ipykernel)",
   "language": "python",
   "name": "python3"
  },
  "language_info": {
   "codemirror_mode": {
    "name": "ipython",
    "version": 3
   },
   "file_extension": ".py",
   "mimetype": "text/x-python",
   "name": "python",
   "nbconvert_exporter": "python",
   "pygments_lexer": "ipython3",
   "version": "3.9.13"
  }
 },
 "nbformat": 4,
 "nbformat_minor": 5
}
